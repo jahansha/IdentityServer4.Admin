{
  "nbformat": 4,
  "nbformat_minor": 0,
  "metadata": {
    "colab": {
      "provenance": [],
      "authorship_tag": "ABX9TyNd7F4nR6pbAdpFcn2lqbp8",
      "include_colab_link": true
    },
    "kernelspec": {
      "name": "python3",
      "display_name": "Python 3"
    },
    "language_info": {
      "name": "python"
    }
  },
  "cells": [
    {
      "cell_type": "markdown",
      "metadata": {
        "id": "view-in-github",
        "colab_type": "text"
      },
      "source": [
        "<a href=\"https://colab.research.google.com/github/jahansha/IdentityServer4.Admin/blob/master/RAG_BOOK_Chap_1.ipynb\" target=\"_parent\"><img src=\"https://colab.research.google.com/assets/colab-badge.svg\" alt=\"Open In Colab\"/></a>"
      ]
    },
    {
      "cell_type": "code",
      "execution_count": null,
      "metadata": {
        "id": "3YAxj51j1566",
        "colab": {
          "base_uri": "https://localhost:8080/"
        },
        "outputId": "617172f9-f08c-45a2-a889-a6df16f0f4d7"
      },
      "outputs": [
        {
          "output_type": "stream",
          "name": "stdout",
          "text": [
            "Collecting openai\n",
            "  Downloading openai-1.69.0-py3-none-any.whl.metadata (25 kB)\n",
            "Requirement already satisfied: anyio<5,>=3.5.0 in /usr/local/lib/python3.11/dist-packages (from openai) (4.9.0)\n",
            "Requirement already satisfied: distro<2,>=1.7.0 in /usr/local/lib/python3.11/dist-packages (from openai) (1.9.0)\n",
            "Requirement already satisfied: httpx<1,>=0.23.0 in /usr/local/lib/python3.11/dist-packages (from openai) (0.28.1)\n",
            "Requirement already satisfied: jiter<1,>=0.4.0 in /usr/local/lib/python3.11/dist-packages (from openai) (0.9.0)\n",
            "Requirement already satisfied: pydantic<3,>=1.9.0 in /usr/local/lib/python3.11/dist-packages (from openai) (2.10.6)\n",
            "Requirement already satisfied: sniffio in /usr/local/lib/python3.11/dist-packages (from openai) (1.3.1)\n",
            "Requirement already satisfied: tqdm>4 in /usr/local/lib/python3.11/dist-packages (from openai) (4.67.1)\n",
            "Requirement already satisfied: typing-extensions<5,>=4.11 in /usr/local/lib/python3.11/dist-packages (from openai) (4.12.2)\n",
            "Requirement already satisfied: idna>=2.8 in /usr/local/lib/python3.11/dist-packages (from anyio<5,>=3.5.0->openai) (3.10)\n",
            "Requirement already satisfied: certifi in /usr/local/lib/python3.11/dist-packages (from httpx<1,>=0.23.0->openai) (2025.1.31)\n",
            "Requirement already satisfied: httpcore==1.* in /usr/local/lib/python3.11/dist-packages (from httpx<1,>=0.23.0->openai) (1.0.7)\n",
            "Requirement already satisfied: h11<0.15,>=0.13 in /usr/local/lib/python3.11/dist-packages (from httpcore==1.*->httpx<1,>=0.23.0->openai) (0.14.0)\n",
            "Requirement already satisfied: annotated-types>=0.6.0 in /usr/local/lib/python3.11/dist-packages (from pydantic<3,>=1.9.0->openai) (0.7.0)\n",
            "Requirement already satisfied: pydantic-core==2.27.2 in /usr/local/lib/python3.11/dist-packages (from pydantic<3,>=1.9.0->openai) (2.27.2)\n",
            "Downloading openai-1.69.0-py3-none-any.whl (599 kB)\n",
            "\u001b[?25l   \u001b[90m━━━━━━━━━━━━━━━━━━━━━━━━━━━━━━━━━━━━━━━━\u001b[0m \u001b[32m0.0/599.1 kB\u001b[0m \u001b[31m?\u001b[0m eta \u001b[36m-:--:--\u001b[0m\r\u001b[2K   \u001b[90m━━━━━━━━━━━━━━━━━━━━━━━━━━━━━━━━━━━━━━━━\u001b[0m \u001b[32m599.1/599.1 kB\u001b[0m \u001b[31m28.7 MB/s\u001b[0m eta \u001b[36m0:00:00\u001b[0m\n",
            "\u001b[?25hInstalling collected packages: openai\n",
            "Successfully installed openai-1.69.0\n"
          ]
        }
      ],
      "source": [
        "pip install openai"
      ]
    },
    {
      "cell_type": "markdown",
      "source": [
        "Setup API Key storage"
      ],
      "metadata": {
        "id": "juedKpEK1-Ca"
      }
    },
    {
      "cell_type": "code",
      "source": [
        "from google.colab import drive\n",
        "drive.mount('/content/drive')"
      ],
      "metadata": {
        "colab": {
          "base_uri": "https://localhost:8080/"
        },
        "id": "aeKVf0ah2e_m",
        "outputId": "bd90f9a3-87fd-410c-9bfa-8ae6215e3b0e"
      },
      "execution_count": null,
      "outputs": [
        {
          "output_type": "stream",
          "name": "stdout",
          "text": [
            "Mounted at /content/drive\n"
          ]
        }
      ]
    },
    {
      "cell_type": "code",
      "source": [
        "f = open(\"drive/MyDrive/files/api_key.txt\", \"r\")\n",
        "API_KEY = f.readline().strip()\n",
        "f.close()\n",
        "#API_KEY"
      ],
      "metadata": {
        "id": "nXaLY9LU27ie"
      },
      "execution_count": null,
      "outputs": []
    },
    {
      "cell_type": "markdown",
      "source": [
        "The openai key"
      ],
      "metadata": {
        "id": "StPV3Kv96NA3"
      }
    },
    {
      "cell_type": "code",
      "source": [
        "import os\n",
        "import openai\n",
        "os.environ['OPENAI_API_KEY']=API_KEY\n",
        "openai.api_key=os.getenv(\"OPENAI_API_KEY\")"
      ],
      "metadata": {
        "id": "nbV1uSSr6Sd7"
      },
      "execution_count": null,
      "outputs": []
    },
    {
      "cell_type": "code",
      "source": [
        "total_response = ''"
      ],
      "metadata": {
        "id": "yXue-zISZ95H"
      },
      "execution_count": 44,
      "outputs": []
    },
    {
      "cell_type": "code",
      "source": [
        "import openai\n",
        "from openai import OpenAI\n",
        "\n",
        "client = OpenAI()\n",
        "gptmodel=\"gpt-4o\"\n",
        "\n",
        "\n",
        "def call_llm_with_full_text(itext):\n",
        "    # Join all lines to form a single string\n",
        "    text_input = '\\n'.join(itext)\n",
        "    text_input = itext  # JOHNS\n",
        "    prompt = f\"Please elaborate on the following content:\\n{text_input}\"\n",
        "\n",
        "    try:\n",
        "      response = client.chat.completions.create(\n",
        "         model=gptmodel,\n",
        "         messages=[\n",
        "            {\"role\": \"system\", \"content\": \"You are an expert Natural Language Processing exercise expert.\"},\n",
        "            {\"role\": \"assistant\", \"content\": \"1.You can explain, read the input and answer in detail\"},\n",
        "            {\"role\": \"user\", \"content\": prompt}\n",
        "         ],\n",
        "         temperature=0.1  # Add the temperature parameter here and other parameters you need\n",
        "        )\n",
        "      #total_response =str(response.model_dump_json(indent=2))  # this has a nice display\n",
        "      #print(response.model_dump_json(indent=2))  # this has a nice display\n",
        "      #total_response= response  # this is unstructured display\n",
        "      print(total_response)\n",
        "      return response.choices[0].message.content.strip()\n",
        "    except Exception as e:\n",
        "        return str(e)"
      ],
      "metadata": {
        "id": "7ytKHR4YBH8p"
      },
      "execution_count": 55,
      "outputs": []
    },
    {
      "cell_type": "code",
      "source": [
        "import textwrap\n",
        "\n",
        "def print_formatted_response(response):\n",
        "    # Define the width for wrapping the text\n",
        "    wrapper = textwrap.TextWrapper(width=80)  # Set to 80 columns wide, but adjust as needed\n",
        "    wrapped_text = wrapper.fill(text=response)\n",
        "\n",
        "    # Print the formatted response with a header and footer\n",
        "    print(\"Response:\")\n",
        "    print(\"---------------\")\n",
        "    print(wrapped_text)\n",
        "    print(\"---------------\\n\")"
      ],
      "metadata": {
        "id": "QcaMVtd9BOaV"
      },
      "execution_count": 56,
      "outputs": []
    },
    {
      "cell_type": "markdown",
      "source": [
        "GENERATION WITHOUT AUGMENTATION"
      ],
      "metadata": {
        "id": "3kx820DSBriZ"
      }
    },
    {
      "cell_type": "code",
      "source": [
        "query = \"define a rag store\"\n",
        "# Call the function and print the result\n",
        "llm_response = call_llm_with_full_text(query)\n",
        "print_formatted_response(llm_response)"
      ],
      "metadata": {
        "colab": {
          "base_uri": "https://localhost:8080/"
        },
        "id": "0hULW8JhBVnO",
        "outputId": "c68f4e30-5824-49b6-b49b-ee37b017d484"
      },
      "execution_count": 57,
      "outputs": [
        {
          "output_type": "stream",
          "name": "stdout",
          "text": [
            "ChatCompletion(id='chatcmpl-BHE8diGGffnePOpBY6bX0Jxf3Nc1J', choices=[Choice(finish_reason='stop', index=0, logprobs=None, message=ChatCompletionMessage(content='A \"rag store\" traditionally refers to a type of shop or business that deals in second-hand clothing and textiles. The term \"rag\" in this context is a colloquial way of referring to old or used clothing and fabric materials. Here\\'s a more detailed explanation of what a rag store typically involves:\\n\\n1. **Second-Hand Clothing**: Rag stores primarily sell used clothing. These items are often donated by individuals or collected from various sources. The clothing is usually sorted, cleaned, and sometimes repaired before being put up for sale.\\n\\n2. **Textile Recycling**: In addition to selling wearable second-hand clothing, rag stores may also engage in textile recycling. This involves collecting textiles that are not suitable for resale as clothing and repurposing them. For example, these textiles might be shredded and used as stuffing for furniture, insulation, or industrial rags.\\n\\n3. **Affordable Prices**: One of the main attractions of rag stores is their affordability. Since the items are second-hand, they are typically sold at much lower prices than new clothing. This makes them popular among budget-conscious shoppers and those looking for unique or vintage items.\\n\\n4. **Sustainability**: Rag stores contribute to environmental sustainability by promoting the reuse and recycling of textiles. By extending the life of clothing and reducing the demand for new production, they help decrease the environmental impact associated with the fashion industry.\\n\\n5. **Variety of Items**: Besides clothing, rag stores might also sell other second-hand items such as shoes, accessories, and household textiles like curtains, bed linens, and towels.\\n\\n6. **Community Impact**: Many rag stores are operated by charitable organizations or social enterprises. Profits from sales often support community programs or charitable causes, making shopping at these stores a way for consumers to contribute to social good.\\n\\nOverall, rag stores play a significant role in promoting sustainable fashion practices and providing affordable clothing options to a wide range of consumers.', refusal=None, role='assistant', annotations=[], audio=None, function_call=None, tool_calls=None))], created=1743445623, model='gpt-4o-2024-08-06', object='chat.completion', service_tier='default', system_fingerprint='fp_898ac29719', usage=CompletionUsage(completion_tokens=387, prompt_tokens=48, total_tokens=435, completion_tokens_details=CompletionTokensDetails(accepted_prediction_tokens=0, audio_tokens=0, reasoning_tokens=0, rejected_prediction_tokens=0), prompt_tokens_details=PromptTokensDetails(audio_tokens=0, cached_tokens=0)))\n",
            "Response:\n",
            "---------------\n",
            "A \"rag store\" traditionally refers to a type of shop or business that deals in\n",
            "second-hand clothing and textiles. The term \"rag\" in this context is a\n",
            "colloquial way of referring to old or used clothing and fabric materials. Here's\n",
            "a more detailed explanation of what a rag store typically involves:  1.\n",
            "**Second-Hand Clothing**: Rag stores primarily sell used clothing. These items\n",
            "are often donated by individuals or collected from various sources. The clothing\n",
            "is usually sorted, cleaned, and sometimes repaired before being put up for sale.\n",
            "2. **Textile Recycling**: In addition to selling wearable second-hand clothing,\n",
            "rag stores may also engage in textile recycling. This involves collecting\n",
            "textiles that are not suitable for resale as clothing and repurposing them. For\n",
            "example, these textiles might be shredded and used as stuffing for furniture,\n",
            "insulation, or industrial rags.  3. **Affordable Prices**: One of the main\n",
            "attractions of rag stores is their affordability. Since the items are second-\n",
            "hand, they are typically sold at much lower prices than new clothing. This makes\n",
            "them popular among budget-conscious shoppers and those looking for unique or\n",
            "vintage items.  4. **Sustainability**: Rag stores contribute to environmental\n",
            "sustainability by promoting the reuse and recycling of textiles. By extending\n",
            "the life of clothing and reducing the demand for new production, they help\n",
            "decrease the environmental impact associated with the fashion industry.  5.\n",
            "**Variety of Items**: Besides clothing, rag stores might also sell other second-\n",
            "hand items such as shoes, accessories, and household textiles like curtains, bed\n",
            "linens, and towels.  6. **Community Impact**: Many rag stores are operated by\n",
            "charitable organizations or social enterprises. Profits from sales often support\n",
            "community programs or charitable causes, making shopping at these stores a way\n",
            "for consumers to contribute to social good.  Overall, rag stores play a\n",
            "significant role in promoting sustainable fashion practices and providing\n",
            "affordable clothing options to a wide range of consumers.\n",
            "---------------\n",
            "\n"
          ]
        }
      ]
    },
    {
      "cell_type": "code",
      "source": [
        "total_response"
      ],
      "metadata": {
        "colab": {
          "base_uri": "https://localhost:8080/",
          "height": 35
        },
        "id": "iQtk1SIbWvDl",
        "outputId": "a459fa5f-ca4a-4a46-88b5-5b2d3124cf17"
      },
      "execution_count": 51,
      "outputs": [
        {
          "output_type": "execute_result",
          "data": {
            "text/plain": [
              "''"
            ],
            "application/vnd.google.colaboratory.intrinsic+json": {
              "type": "string"
            }
          },
          "metadata": {},
          "execution_count": 51
        }
      ]
    },
    {
      "cell_type": "markdown",
      "source": [
        "# New Section"
      ],
      "metadata": {
        "id": "xnCnDVCgVN3E"
      }
    }
  ]
}